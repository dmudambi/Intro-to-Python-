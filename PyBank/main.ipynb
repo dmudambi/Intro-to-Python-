{
 "cells": [
  {
   "cell_type": "code",
   "execution_count": 1,
   "metadata": {},
   "outputs": [
    {
     "data": {
      "text/plain": [
       "'\\nWe have the following data given for the problem:\\nJan-2010,867884\\nFeb-2010,984655\\nMar-2010,322013\\nApr-2010,-69417\\nMay-2010,310503\\nJun-2010,522857\\nJul-2010,1033096\\nAug-2010,604885\\nSep-2010,-216386\\nOct-2010,477532\\nNov-2010,893810\\nDec-2010,-80353\\nJan-2011,779806\\nFeb-2011,-335203\\nMar-2011,697845\\nApr-2011,793163\\nMay-2011,485070\\nJun-2011,584122\\nJul-2011,62729\\nAug-2011,668179\\nSep-2011,899906\\nOct-2011,834719\\nNov-2011,132003\\nDec-2011,309978\\nJan-2012,-755566\\nFeb-2012,1170593\\nMar-2012,252788\\nApr-2012,1151518\\nMay-2012,817256\\nJun-2012,570757\\nJul-2012,506702\\nAug-2012,-1022534\\nSep-2012,475062\\nOct-2012,779976\\nNov-2012,144175\\nDec-2012,542494\\nJan-2013,359333\\nFeb-2013,321469\\nMar-2013,67780\\nApr-2013,471435\\nMay-2013,565603\\nJun-2013,872480\\nJul-2013,789480\\nAug-2013,999942\\nSep-2013,-1196225\\nOct-2013,268997\\nNov-2013,-687986\\nDec-2013,1150461\\nJan-2014,682458\\nFeb-2014,617856\\nMar-2014,824098\\nApr-2014,581943\\nMay-2014,132864\\nJun-2014,448062\\nJul-2014,689161\\nAug-2014,800701\\nSep-2014,1166643\\nOct-2014,947333\\nNov-2014,578668\\nDec-2014,988505\\nJan-2015,1139715\\nFeb-2015,1029471\\nMar-2015,687533\\nApr-2015,-524626\\nMay-2015,158620\\nJun-2015,87795\\nJul-2015,423389\\nAug-2015,840723\\nSep-2015,568529\\nOct-2015,332067\\nNov-2015,989499\\nDec-2015,778237\\nJan-2016,650000\\nFeb-2016,-1100387\\nMar-2016,-174946\\nApr-2016,757143\\nMay-2016,445709\\nJun-2016,712961\\nJul-2016,-1163797\\nAug-2016,569899\\nSep-2016,768450\\nOct-2016,102685\\nNov-2016,795914\\nDec-2016,60988\\nJan-2017,138230\\nFeb-2017,671099\\n'"
      ]
     },
     "execution_count": 1,
     "metadata": {},
     "output_type": "execute_result"
    }
   ],
   "source": [
    "\"\"\"\n",
    "We have the following data given for the problem:\n",
    "Jan-2010,867884\n",
    "Feb-2010,984655\n",
    "Mar-2010,322013\n",
    "Apr-2010,-69417\n",
    "May-2010,310503\n",
    "Jun-2010,522857\n",
    "Jul-2010,1033096\n",
    "Aug-2010,604885\n",
    "Sep-2010,-216386\n",
    "Oct-2010,477532\n",
    "Nov-2010,893810\n",
    "Dec-2010,-80353\n",
    "Jan-2011,779806\n",
    "Feb-2011,-335203\n",
    "Mar-2011,697845\n",
    "Apr-2011,793163\n",
    "May-2011,485070\n",
    "Jun-2011,584122\n",
    "Jul-2011,62729\n",
    "Aug-2011,668179\n",
    "Sep-2011,899906\n",
    "Oct-2011,834719\n",
    "Nov-2011,132003\n",
    "Dec-2011,309978\n",
    "Jan-2012,-755566\n",
    "Feb-2012,1170593\n",
    "Mar-2012,252788\n",
    "Apr-2012,1151518\n",
    "May-2012,817256\n",
    "Jun-2012,570757\n",
    "Jul-2012,506702\n",
    "Aug-2012,-1022534\n",
    "Sep-2012,475062\n",
    "Oct-2012,779976\n",
    "Nov-2012,144175\n",
    "Dec-2012,542494\n",
    "Jan-2013,359333\n",
    "Feb-2013,321469\n",
    "Mar-2013,67780\n",
    "Apr-2013,471435\n",
    "May-2013,565603\n",
    "Jun-2013,872480\n",
    "Jul-2013,789480\n",
    "Aug-2013,999942\n",
    "Sep-2013,-1196225\n",
    "Oct-2013,268997\n",
    "Nov-2013,-687986\n",
    "Dec-2013,1150461\n",
    "Jan-2014,682458\n",
    "Feb-2014,617856\n",
    "Mar-2014,824098\n",
    "Apr-2014,581943\n",
    "May-2014,132864\n",
    "Jun-2014,448062\n",
    "Jul-2014,689161\n",
    "Aug-2014,800701\n",
    "Sep-2014,1166643\n",
    "Oct-2014,947333\n",
    "Nov-2014,578668\n",
    "Dec-2014,988505\n",
    "Jan-2015,1139715\n",
    "Feb-2015,1029471\n",
    "Mar-2015,687533\n",
    "Apr-2015,-524626\n",
    "May-2015,158620\n",
    "Jun-2015,87795\n",
    "Jul-2015,423389\n",
    "Aug-2015,840723\n",
    "Sep-2015,568529\n",
    "Oct-2015,332067\n",
    "Nov-2015,989499\n",
    "Dec-2015,778237\n",
    "Jan-2016,650000\n",
    "Feb-2016,-1100387\n",
    "Mar-2016,-174946\n",
    "Apr-2016,757143\n",
    "May-2016,445709\n",
    "Jun-2016,712961\n",
    "Jul-2016,-1163797\n",
    "Aug-2016,569899\n",
    "Sep-2016,768450\n",
    "Oct-2016,102685\n",
    "Nov-2016,795914\n",
    "Dec-2016,60988\n",
    "Jan-2017,138230\n",
    "Feb-2017,671099\n",
    "\"\"\""
   ]
  },
  {
   "cell_type": "code",
   "execution_count": 18,
   "metadata": {},
   "outputs": [],
   "source": [
    "data = {\n",
    "   \"Jan-2010\" :867884,\n",
    "   \"Feb-2010\" :984655,\n",
    "   \"Mar-2010\" :322013,\n",
    "   \"Apr-2010\" :-69417,\n",
    "   \"May-2010\" :310503,\n",
    "   \"Jun-2010\" :522857,\n",
    "   \"Jul-2010\" :1033096,\n",
    "   \"Aug-2010\" :604885,\n",
    "   \"Sep-2010\" :-216386,\n",
    "   \"Oct-2010\" :477532,\n",
    "   \"Nov-2010\" :893810,\n",
    "   \"Dec-2010\" :-80353,\n",
    "   \"Jan-2011\" :779806,\n",
    "   \"Feb-2011\" :-335203,\n",
    "   \"Mar-2011\" :697845,\n",
    "   \"Apr-2011\" :793163,\n",
    "   \"May-2011\" :485070,\n",
    "   \"Jun-2011\" :584122,\n",
    "   \"Jul-2011\" :62729,\n",
    "   \"Aug-2011\" :668179,\n",
    "   \"Sep-2011\" :899906,\n",
    "   \"Oct-2011\" :834719,\n",
    "   \"Nov-2011\" :132003,\n",
    "   \"Dec-2011\" :309978,\n",
    "   \"Jan-2012\" :-755566,\n",
    "   \"Feb-2012\" :1170593,\n",
    "   \"Mar-2012\" :252788,\n",
    "   \"Apr-2012\" :1151518,\n",
    "   \"May-2012\" :817256,\n",
    "   \"Jun-2012\" :570757,\n",
    "   \"Jul-2012\" :506702,\n",
    "   \"Aug-2012\" :-102253,\n",
    "   \"Sep-2012\" :475062,\n",
    "   \"Oct-2012\" :779976,\n",
    "   \"Nov-2012\" :144175,\n",
    "   \"Dec-2012\" :542494,\n",
    "   \"Jan-2013\":359333,\n",
    "   \"Feb-2013\" :321469,\n",
    "   \"Mar-2013\" :67780,\n",
    "   \"Apr-2013\" :471435,\n",
    "   \"May-2013\" :565603,\n",
    "   \"Jun-2013\" :872480,\n",
    "   \"Jul-2013\" :789480,\n",
    "   \"Aug-2013\" :999942,\n",
    "   \"Sep-2013\" :-119622,\n",
    "   \"Oct-2013\" :268997,\n",
    "   \"Nov-2013\" :-687986,\n",
    "   \"Dec-2013\" :1150461,\n",
    "   \"Jan-2014\" :682458,\n",
    "   \"Feb-2014\" :617856,\n",
    "   \"Mar-2014\" :824098,\n",
    "   \"Apr-2014\" :581943,\n",
    "   \"May-2014\" :132864,\n",
    "   \"Jun-2014\" :448062,\n",
    "   \"Jul-2014\" :689161,\n",
    "   \"Aug-2014\" :800701,\n",
    "   \"Sep-2014\" :1166643,\n",
    "   \"Oct-2014\" :947333,\n",
    "   \"Nov-2014\" :578668,\n",
    "   \"Dec-2014\" :988505,\n",
    "   \"Jan-2015\" :1139715,\n",
    "   \"Feb-2015\" :1029471,\n",
    "   \"Mar-2015\" :687533,\n",
    "   \"Apr-2015\" :-524626,\n",
    "   \"May-2015\" :158620,\n",
    "   \"Jun-2015\" :87795,\n",
    "   \"Jul-2015\" :423389,\n",
    "   \"Aug-2015\" :840723,\n",
    "   \"Sep-2015\" :568529,\n",
    "   \"Oct-2015\" :332067,\n",
    "   \"Nov-2015\" :989499,\n",
    "   \"Dec-2015\" :778237,\n",
    "   \"Jan-2016\" :650000,\n",
    "   \"Feb-2016\" :-110038,\n",
    "   \"Mar-2016\" :-174946,\n",
    "   \"Apr-2016\" :757143,\n",
    "   \"May-2016\" :445709,\n",
    "   \"Jun-2016\" :712961,\n",
    "   \"Jul-2016\" :-116379,\n",
    "   \"Aug-2016\" :569899,\n",
    "   \"Sep-2016\" :768450,\n",
    "   \"Oct-2016\" :102685,\n",
    "   \"Nov-2016\" :795914,\n",
    "   \"Dec-2016\" :60988,\n",
    "   \"Jan-2017\" :138230,\n",
    "   \"Feb-2017\" :671099,\n",
    "}\n"
   ]
  },
  {
   "cell_type": "code",
   "execution_count": 15,
   "metadata": {},
   "outputs": [
    {
     "name": "stdout",
     "output_type": "stream",
     "text": [
      "86\n"
     ]
    }
   ],
   "source": [
    "#The total number of months included in the dataset.\n",
    "total_months = 0 \n",
    "for i in data:\n",
    "    total_months += 1\n"
   ]
  },
  {
   "cell_type": "code",
   "execution_count": 8,
   "metadata": {},
   "outputs": [
    {
     "name": "stdout",
     "output_type": "stream",
     "text": [
      "42417229\n"
     ]
    }
   ],
   "source": [
    "#The net total amount of Profit/Losses over the entire period. \n",
    "net_total = 0 \n",
    "for i in data:\n",
    "    key = data[i]\n",
    "    net_total += key\n"
   ]
  },
  {
   "cell_type": "code",
   "execution_count": 52,
   "metadata": {},
   "outputs": [
    {
     "name": "stdout",
     "output_type": "stream",
     "text": [
      "86\n",
      "-2288.2\n"
     ]
    }
   ],
   "source": [
    "#The average of the changes in Profit/Losses over the entire period.\n",
    "list_keys = [] \n",
    "first = -1\n",
    "second = 0\n",
    "change = 0 \n",
    "total_change = 0 \n",
    "for key,value in data.items():\n",
    "    list_keys += [value]\n",
    "\n",
    "\n",
    "for i in list_keys:\n",
    "    first += 1\n",
    "    second += 1\n",
    "    if second == len(list_keys):\n",
    "        break\n",
    "    else:\n",
    "        change = (list_keys[second] - list_keys[first])\n",
    "        total_change += change \n",
    "average_change = (total_change/len(list_keys))\n",
    "round_average_change = round(average_change, 2)\n",
    "\n",
    "        \n"
   ]
  },
  {
   "cell_type": "code",
   "execution_count": 46,
   "metadata": {},
   "outputs": [
    {
     "name": "stdout",
     "output_type": "stream",
     "text": [
      "1926159\n",
      "-1212159\n"
     ]
    }
   ],
   "source": [
    "first = -1\n",
    "second = 0\n",
    "change = 0 \n",
    "total_change = 0 \n",
    "change_list = []\n",
    "\n",
    "for i in list_keys:\n",
    "    first += 1\n",
    "    second += 1\n",
    "    if second == len(list_keys):\n",
    "        break\n",
    "    else:\n",
    "        change = (list_keys[second] - list_keys[first])\n",
    "        change_list += [change]\n",
    "max_change = max(change_list)\n",
    "min_change = min(change_list)\n",
    "\n"
   ]
  },
  {
   "cell_type": "code",
   "execution_count": 49,
   "metadata": {},
   "outputs": [
    {
     "name": "stdout",
     "output_type": "stream",
     "text": [
      "25 63\n"
     ]
    }
   ],
   "source": [
    "max_count = -1\n",
    "for i in change_list:\n",
    "    max_count += 1\n",
    "    if max_change == change_list[max_count]:\n",
    "        max_position = max_count + 1\n",
    "        break\n",
    "min_count = -1\n",
    "for i in change_list:\n",
    "    min_count += 1\n",
    "    if min_change == change_list[min_count]:\n",
    "        min_position = min_count + 1\n",
    "        break\n"
   ]
  },
  {
   "cell_type": "code",
   "execution_count": 56,
   "metadata": {},
   "outputs": [],
   "source": [
    "key_count = -1\n",
    "for key,value in data.items():\n",
    "    key_count += 1\n",
    "    if key_count == max_position:\n",
    "        max_key = key\n",
    "    if key_count == min_position:\n",
    "        min_key = key\n"
   ]
  },
  {
   "cell_type": "code",
   "execution_count": 55,
   "metadata": {},
   "outputs": [
    {
     "name": "stdout",
     "output_type": "stream",
     "text": [
      "Financial Analysis\n",
      "----------------------------\n",
      "Total Months: 86\n",
      "Total: 42417229\n",
      "Average Change: $-2288.2\n",
      "Greatest Increase in Profits: Feb-2012 ($1926159)\n",
      "Greatest Decrease in Profits: Apr-2015 ($-1212159)\n"
     ]
    }
   ],
   "source": [
    "print(\"Financial Analysis\")\n",
    "print(\"----------------------------\")\n",
    "print(f\"Total Months: {total_months}\")\n",
    "print(f\"Total: {net_total}\")\n",
    "print(f\"Average Change: ${round_average_change}\")\n",
    "print(f\"Greatest Increase in Profits: {max_key} (${max_change})\")\n",
    "print(f\"Greatest Decrease in Profits: {min_key} (${min_change})\")"
   ]
  },
  {
   "cell_type": "code",
   "execution_count": null,
   "metadata": {},
   "outputs": [],
   "source": []
  }
 ],
 "metadata": {
  "kernelspec": {
   "display_name": "Python 3",
   "language": "python",
   "name": "python3"
  },
  "language_info": {
   "codemirror_mode": {
    "name": "ipython",
    "version": 3
   },
   "file_extension": ".py",
   "mimetype": "text/x-python",
   "name": "python",
   "nbconvert_exporter": "python",
   "pygments_lexer": "ipython3",
   "version": "3.8.3"
  }
 },
 "nbformat": 4,
 "nbformat_minor": 4
}
